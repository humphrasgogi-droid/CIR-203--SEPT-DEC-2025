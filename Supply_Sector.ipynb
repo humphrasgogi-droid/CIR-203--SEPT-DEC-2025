{
  "nbformat": 4,
  "nbformat_minor": 0,
  "metadata": {
    "colab": {
      "provenance": [],
      "authorship_tag": "ABX9TyPE+dR4aHTZysNWr2X69wKb",
      "include_colab_link": true
    },
    "kernelspec": {
      "name": "python3",
      "display_name": "Python 3"
    },
    "language_info": {
      "name": "python"
    }
  },
  "cells": [
    {
      "cell_type": "markdown",
      "metadata": {
        "id": "view-in-github",
        "colab_type": "text"
      },
      "source": [
        "<a href=\"https://colab.research.google.com/github/humphrasgogi-droid/CIR-203--SEPT-DEC-2025/blob/main/Supply_Sector.ipynb\" target=\"_parent\"><img src=\"https://colab.research.google.com/assets/colab-badge.svg\" alt=\"Open In Colab\"/></a>"
      ]
    },
    {
      "cell_type": "code",
      "execution_count": 1,
      "metadata": {
        "colab": {
          "base_uri": "https://localhost:8080/"
        },
        "id": "hbvssIo-dQER",
        "outputId": "b7e112c7-3009-4821-d482-8b3e5e4e538b"
      },
      "outputs": [
        {
          "output_type": "stream",
          "name": "stdout",
          "text": [
            "Original routes: ['Nairobi to Mombasa', 'Eldoret to Nakuru', 'Kisumu to Kakamega', 'Mombasa to Malindi', 'Nairobi to Thika', 'Nakuru to Naivasha', 'Garissa to Wajir', 'Nyeri to Embu', 'Kisii to Migori', 'Nairobi to Kisumu']\n"
          ]
        }
      ],
      "source": [
        "delivery_routes = [\n",
        "    \"Nairobi to Mombasa\",\n",
        "    \"Eldoret to Nakuru\",\n",
        "    \"Kisumu to Kakamega\",\n",
        "    \"Mombasa to Malindi\",\n",
        "    \"Nairobi to Thika\",\n",
        "    \"Nakuru to Naivasha\",\n",
        "    \"Garissa to Wajir\",\n",
        "    \"Nyeri to Embu\",\n",
        "    \"Kisii to Migori\",\n",
        "    \"Nairobi to Kisumu\"\n",
        "]\n",
        "print(\"Original routes:\", delivery_routes)"
      ]
    },
    {
      "cell_type": "code",
      "source": [
        "# Append a new route\n",
        "delivery_routes.append(\"Isiolo to Marsabit\")\n",
        "print(\"\\nAfter adding a route:\", delivery_routes)\n",
        "\n",
        "# Remove a discontinued route\n",
        "delivery_routes.remove(\"Garissa to Wajir\")\n",
        "print(\"\\nAfter removing a route:\", delivery_routes)"
      ],
      "metadata": {
        "colab": {
          "base_uri": "https://localhost:8080/"
        },
        "id": "6oqKQJqOd8e2",
        "outputId": "53b6314c-6298-47d2-ed2e-415be9040242"
      },
      "execution_count": 2,
      "outputs": [
        {
          "output_type": "stream",
          "name": "stdout",
          "text": [
            "\n",
            "After adding a route: ['Nairobi to Mombasa', 'Eldoret to Nakuru', 'Kisumu to Kakamega', 'Mombasa to Malindi', 'Nairobi to Thika', 'Nakuru to Naivasha', 'Garissa to Wajir', 'Nyeri to Embu', 'Kisii to Migori', 'Nairobi to Kisumu', 'Isiolo to Marsabit']\n",
            "\n",
            "After removing a route: ['Nairobi to Mombasa', 'Eldoret to Nakuru', 'Kisumu to Kakamega', 'Mombasa to Malindi', 'Nairobi to Thika', 'Nakuru to Naivasha', 'Nyeri to Embu', 'Kisii to Migori', 'Nairobi to Kisumu', 'Isiolo to Marsabit']\n"
          ]
        }
      ]
    },
    {
      "cell_type": "code",
      "source": [
        "# Sort alphabetically\n",
        "delivery_routes.sort()\n",
        "print(\"\\nSorted alphabetically:\", delivery_routes)\n",
        "\n",
        "# Reverse the sorted list\n",
        "delivery_routes.reverse()\n",
        "print(\"\\nReversed list:\", delivery_routes)"
      ],
      "metadata": {
        "colab": {
          "base_uri": "https://localhost:8080/"
        },
        "id": "fmLoRbuieAfD",
        "outputId": "e1f44f9b-3b20-4b1b-85f2-10df12e634a1"
      },
      "execution_count": 3,
      "outputs": [
        {
          "output_type": "stream",
          "name": "stdout",
          "text": [
            "\n",
            "Sorted alphabetically: ['Eldoret to Nakuru', 'Isiolo to Marsabit', 'Kisii to Migori', 'Kisumu to Kakamega', 'Mombasa to Malindi', 'Nairobi to Kisumu', 'Nairobi to Mombasa', 'Nairobi to Thika', 'Nakuru to Naivasha', 'Nyeri to Embu']\n",
            "\n",
            "Reversed list: ['Nyeri to Embu', 'Nakuru to Naivasha', 'Nairobi to Thika', 'Nairobi to Mombasa', 'Nairobi to Kisumu', 'Mombasa to Malindi', 'Kisumu to Kakamega', 'Kisii to Migori', 'Isiolo to Marsabit', 'Eldoret to Nakuru']\n"
          ]
        }
      ]
    },
    {
      "cell_type": "code",
      "source": [
        "count = 0\n",
        "for route in delivery_routes:\n",
        "    if route.startswith(\"N\"):\n",
        "        count += 1\n",
        "\n",
        "print(f\"\\nNumber of routes starting with 'N': {count}\")"
      ],
      "metadata": {
        "colab": {
          "base_uri": "https://localhost:8080/"
        },
        "id": "lVavRU4aeBpg",
        "outputId": "d29a5ced-9fe9-45e4-cc5e-0f358b29226d"
      },
      "execution_count": 4,
      "outputs": [
        {
          "output_type": "stream",
          "name": "stdout",
          "text": [
            "\n",
            "Number of routes starting with 'N': 5\n"
          ]
        }
      ]
    },
    {
      "cell_type": "code",
      "source": [
        "long_routes = [route for route in delivery_routes if len(route) > 18]\n",
        "\n",
        "print(\"\\nRoutes longer than 18 characters:\", long_routes)"
      ],
      "metadata": {
        "colab": {
          "base_uri": "https://localhost:8080/"
        },
        "id": "CBg9D-sdeJfy",
        "outputId": "ce97dfd3-a560-4454-c9ea-16f7d9091062"
      },
      "execution_count": 5,
      "outputs": [
        {
          "output_type": "stream",
          "name": "stdout",
          "text": [
            "\n",
            "Routes longer than 18 characters: []\n"
          ]
        }
      ]
    }
  ]
}