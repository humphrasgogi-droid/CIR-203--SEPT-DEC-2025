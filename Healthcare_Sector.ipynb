{
  "nbformat": 4,
  "nbformat_minor": 0,
  "metadata": {
    "colab": {
      "provenance": [],
      "authorship_tag": "ABX9TyP0URLBFMR31KWRfMWzLYjc",
      "include_colab_link": true
    },
    "kernelspec": {
      "name": "python3",
      "display_name": "Python 3"
    },
    "language_info": {
      "name": "python"
    }
  },
  "cells": [
    {
      "cell_type": "markdown",
      "metadata": {
        "id": "view-in-github",
        "colab_type": "text"
      },
      "source": [
        "<a href=\"https://colab.research.google.com/github/humphrasgogi-droid/CIR-203--SEPT-DEC-2025/blob/main/Healthcare_Sector.ipynb\" target=\"_parent\"><img src=\"https://colab.research.google.com/assets/colab-badge.svg\" alt=\"Open In Colab\"/></a>"
      ]
    },
    {
      "cell_type": "code",
      "execution_count": 1,
      "metadata": {
        "colab": {
          "base_uri": "https://localhost:8080/"
        },
        "id": "hLyu8f4ucSGb",
        "outputId": "e529998c-f93c-47b3-f35e-98dd1f3728be"
      },
      "outputs": [
        {
          "output_type": "stream",
          "name": "stdout",
          "text": [
            "Patient tuple: ('John Doe', 45, '120/80', 72)\n"
          ]
        }
      ],
      "source": [
        "# (Name, Age, Blood Pressure, Heart Rate)\n",
        "patient_vitals = (\"John Doe\", 45, \"120/80\", 72)\n",
        "print(\"Patient tuple:\", patient_vitals)"
      ]
    },
    {
      "cell_type": "code",
      "source": [
        "patient_age = patient_vitals[1]\n",
        "patient_heart_rate = patient_vitals[3]\n",
        "\n",
        "print(f\"\\nPatient Age: {patient_age}\")\n",
        "print(f\"Patient Heart Rate: {patient_heart_rate}\")"
      ],
      "metadata": {
        "colab": {
          "base_uri": "https://localhost:8080/"
        },
        "id": "UsjvP4_vcaGo",
        "outputId": "401a706d-dcaf-4465-e555-efa36deb6df2"
      },
      "execution_count": 2,
      "outputs": [
        {
          "output_type": "stream",
          "name": "stdout",
          "text": [
            "\n",
            "Patient Age: 45\n",
            "Patient Heart Rate: 72\n"
          ]
        }
      ]
    },
    {
      "cell_type": "code",
      "source": [
        "# Convert tuple to list\n",
        "patient_vitals_list = list(patient_vitals)\n",
        "print(\"\\nConverted to list:\", patient_vitals_list)\n",
        "\n",
        "# Update the heart rate\n",
        "patient_vitals_list[3] = 75\n",
        "print(\"Updated list:\", patient_vitals_list)\n",
        "\n",
        "# Convert back to tuple\n",
        "updated_patient_vitals = tuple(patient_vitals_list)\n",
        "print(\"Converted back to tuple:\", updated_patient_vitals)"
      ],
      "metadata": {
        "colab": {
          "base_uri": "https://localhost:8080/"
        },
        "id": "WCurS2L-cfxb",
        "outputId": "0dbba96d-0bb9-4d70-f638-eed2e479c11f"
      },
      "execution_count": 3,
      "outputs": [
        {
          "output_type": "stream",
          "name": "stdout",
          "text": [
            "\n",
            "Converted to list: ['John Doe', 45, '120/80', 72]\n",
            "Updated list: ['John Doe', 45, '120/80', 75]\n",
            "Converted back to tuple: ('John Doe', 45, '120/80', 75)\n"
          ]
        }
      ]
    },
    {
      "cell_type": "code",
      "source": [
        "all_patients = (\n",
        "    (\"John Doe\", 45, \"120/80\", 72),\n",
        "    (\"Jane Smith\", 32, \"110/70\", 68),\n",
        "    (\"Peter Jones\", 58, \"140/90\", 80),\n",
        "    (\"Mary Williams\", 67, \"135/85\", 76),\n",
        "    (\"David Brown\", 29, \"118/78\", 65)\n",
        ")\n",
        "\n",
        "# Extract all names using a list comprehension\n",
        "patient_names = [patient[0] for patient in all_patients]\n",
        "print(\"\\nList of all patient names:\", patient_names)"
      ],
      "metadata": {
        "colab": {
          "base_uri": "https://localhost:8080/"
        },
        "id": "Vt6wQD7tcjux",
        "outputId": "23ed3cd4-ffe6-4766-d274-5f69b139e0e6"
      },
      "execution_count": 4,
      "outputs": [
        {
          "output_type": "stream",
          "name": "stdout",
          "text": [
            "\n",
            "List of all patient names: ['John Doe', 'Jane Smith', 'Peter Jones', 'Mary Williams', 'David Brown']\n"
          ]
        }
      ]
    }
  ]
}