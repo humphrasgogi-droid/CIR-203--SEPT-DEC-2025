{
  "nbformat": 4,
  "nbformat_minor": 0,
  "metadata": {
    "colab": {
      "provenance": [],
      "authorship_tag": "ABX9TyOBCRxv7NGV+LoMAXFWEuf2",
      "include_colab_link": true
    },
    "kernelspec": {
      "name": "python3",
      "display_name": "Python 3"
    },
    "language_info": {
      "name": "python"
    }
  },
  "cells": [
    {
      "cell_type": "markdown",
      "metadata": {
        "id": "view-in-github",
        "colab_type": "text"
      },
      "source": [
        "<a href=\"https://colab.research.google.com/github/humphrasgogi-droid/CIR-203--SEPT-DEC-2025/blob/main/Dictionaries.ipynb\" target=\"_parent\"><img src=\"https://colab.research.google.com/assets/colab-badge.svg\" alt=\"Open In Colab\"/></a>"
      ]
    },
    {
      "cell_type": "code",
      "execution_count": null,
      "metadata": {
        "id": "I-h25OQ9fQQM"
      },
      "outputs": [],
      "source": [
        "# Add a new product\n",
        "inventory[\"USB Hub\"] = 60\n",
        "print(\"\\nAfter adding USB Hub:\", inventory)\n",
        "\n",
        "# Update the quantity of an existing product\n",
        "inventory[\"Laptop\"] += 10 # or inventory[\"Laptop\"] = 45\n",
        "print(\"After updating Laptop stock:\", inventory)"
      ]
    },
    {
      "cell_type": "code",
      "source": [
        "inventory[\"Mouse\"] = 8 # Adjusting for the function test\n",
        "\n",
        "def find_low_stock(stock_dict, threshold):\n",
        "    \"\"\"Returns a list of products with stock below a certain threshold.\"\"\"\n",
        "    low_stock_items = []\n",
        "    for product, quantity in stock_dict.items():\n",
        "        if quantity < threshold:\n",
        "            low_stock_items.append(product)\n",
        "    return low_stock_items\n",
        "\n",
        "# Find products with stock less than 10\n",
        "products_to_reorder = find_low_stock(inventory, 10)\n",
        "print(f\"\\nProducts with stock less than 10: {products_to_reorder}\")"
      ],
      "metadata": {
        "id": "hcErv1VcfWwk"
      },
      "execution_count": null,
      "outputs": []
    },
    {
      "cell_type": "code",
      "source": [
        "# Let's say 'Webcam' is discontinued\n",
        "del inventory[\"Webcam\"]\n",
        "print(\"\\nInventory after deleting Webcam:\", inventory)"
      ],
      "metadata": {
        "id": "b2m5HsfifcVT"
      },
      "execution_count": null,
      "outputs": []
    },
    {
      "cell_type": "code",
      "source": [
        "print(\"\\nCurrent Product Inventory:\")\n",
        "for product, quantity in inventory.items():\n",
        "    print(f\"- Product: {product}, Quantity: {quantity}\")"
      ],
      "metadata": {
        "id": "9hN4jjEzffZB"
      },
      "execution_count": null,
      "outputs": []
    }
  ]
}